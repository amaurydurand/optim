{
 "cells": [
  {
   "cell_type": "markdown",
   "metadata": {},
   "source": [
    "# PROJECT: Course Optimization for Data Science\n",
    "## Optimization strategies for anomaly detection\n",
    "## with One class Support Vector Machines (OCSVM)"
   ]
  },
  {
   "cell_type": "markdown",
   "metadata": {},
   "source": [
    "Author: Alexandre Gramfort\n",
    "\n",
    "If you have questions or if something is not clear in the text below please contact us\n",
    "by email.\n",
    "\n",
    "## Aim:\n",
    "\n",
    "- derive the dual for the one-class SVM model\n",
    "- implement a one-class SVM using a blackbox convex toolbox (cvxopt in Python)\n",
    "- implement your own solvers with: Proximal gradient, Coordinate Descent, Quasi-Newton\n",
    "- Present a clear benchmark of the different strategies on small and medium scale datasets\n",
    "\n",
    "\n",
    "## VERY IMPORTANT\n",
    "\n",
    "This work must be done by pairs of students.\n",
    "Each student must send their work before the 7th of January at 23:59, using the moodle platform.\n",
    "This means that **each student in the pair sends the same file**\n",
    "\n",
    "On the moodle, in the \"Optimization for Data Science\" course, you have a \"devoir\" section called \"Project\".\n",
    "This is where you submit your jupyter notebook file.\n",
    "\n",
    "The name of the file must be constructed as in the next cell\n",
    "\n",
    "### Gentle reminder: no evaluation if you don't respect this EXACTLY\n",
    "\n",
    "#### How to construct the name of your file"
   ]
  },
  {
   "cell_type": "code",
   "execution_count": 1,
   "metadata": {
    "collapsed": false
   },
   "outputs": [
    {
     "name": "stdout",
     "output_type": "stream",
     "text": [
      "project_gower_robert_and_gramfort_alexandre.ipynb\n"
     ]
    }
   ],
   "source": [
    "# Change here using YOUR first and last names\n",
    "fn1 = \"robert\"\n",
    "ln1 = \"gower\"\n",
    "fn2 = \"alexandre\"\n",
    "ln2 = \"gramfort\"\n",
    "\n",
    "filename = \"_\".join(map(lambda s: s.strip().lower(), \n",
    "                        [\"project\", ln1, fn1, \"and\", ln2, fn2])) + \".ipynb\"\n",
    "print(filename)"
   ]
  },
  {
   "cell_type": "markdown",
   "metadata": {},
   "source": [
    "Some imports"
   ]
  },
  {
   "cell_type": "code",
   "execution_count": 2,
   "metadata": {
    "collapsed": true
   },
   "outputs": [],
   "source": [
    "%matplotlib inline\n",
    "import numpy as np\n",
    "from scipy import linalg\n",
    "import time\n",
    "import matplotlib.pyplot as plt"
   ]
  },
  {
   "cell_type": "markdown",
   "metadata": {},
   "source": [
    "## Important:\n",
    "\n",
    "For Part 0 to Part 2 of the project you will need a working install of `cvxopt`.\n",
    "You may struggle a bit to set it up.\n",
    "The simplest way of getting it is by typing \n",
    "\n",
    "`conda install cvxopt`\n",
    "\n",
    "or\n",
    "\n",
    "`pip install cvxopt`\n",
    "\n",
    "if you have `conda` or `pip` installed on your laptop.\n",
    "If you **struggle too much please\n",
    "contact us**."
   ]
  },
  {
   "cell_type": "markdown",
   "metadata": {},
   "source": [
    "## Part 0: One-class SVM"
   ]
  },
  {
   "cell_type": "markdown",
   "metadata": {},
   "source": [
    "The original formulation of the One-Class SVM introduced by Schölkopf [1] is given by\n",
    "\n",
    "$$\n",
    "    (\\mathcal{P}): \\left\\{\n",
    "\t\\begin{aligned}\n",
    "\t\\min_{w, \\rho, \\xi} & \\quad \\frac{1}{2}\\Vert w \\Vert^2 - \\rho + \\frac{1}{\\nu n} \\sum_{i=1}^n \\xi_i \\\\\n",
    "\t\\text{s.t.} & \\quad \\langle w, x_i \\rangle \\geq \\rho - \\xi_i \\quad 1 \\leq i \\leq n \\\\\n",
    "\t& \\quad \\xi_i \\geq 0 \\quad 1 \\leq i \\leq n\n",
    "\t\\end{aligned}\n",
    "    \\right.\n",
    "$$\n",
    "\n",
    "where $\\nu \\in (0, 1]$ is a user-specified parameter controlling the proportion of outliers and the proportion of support vectors.\n",
    "\n",
    "Getting rid of the slack variables $\\xi_i, 1 \\leq i \\leq n$ one can also obtain the following equivalent optimization problem\n",
    "\n",
    "$$\n",
    "\t\\min_{w, \\rho} \\frac{1}{2}\\Vert w \\Vert^2 - \\rho + \\frac{1}{\\nu n} \\sum_{i=1}^n \\max(0, \\rho - \\langle w, x_i \\rangle) \\, .\n",
    "$$\n",
    "\n",
    "The idea is that the lower is $\\langle w, x_i \\rangle$ is the more $x_i$ is an anomaly and if $\\langle w, x_i \\rangle \\geq \\rho$ then the model predicts the sample is normal. $\\langle w, x_i \\rangle$ corresponds to the decision function and $\\textrm{sign}(\\langle w, x_i \\rangle - \\rho)$ as the prediction (1 means normal sample).\n",
    "\n",
    "[1] Schölkopf et al. Estimating the support of a high-dimensional distribution. Neural Computation. 2001"
   ]
  },
  {
   "cell_type": "markdown",
   "metadata": {},
   "source": [
    "<div class=\"alert alert-success\">\n",
    "    <b>QUESTION 1:</b>\n",
    "     <ul>\n",
    "      <li>Justify that the problem $(\\mathcal{P})$ is convex.</li>\n",
    "    </ul>\n",
    "</div>"
   ]
  },
  {
   "cell_type": "markdown",
   "metadata": {},
   "source": [
    "$(\\mathcal{P})$ s'écrit de la forme (si $w \\in \\mathbb{R}^p$)\n",
    "$$\n",
    "\\left\\lbrace\n",
    "\\begin{aligned}\n",
    "\\min_{(w,\\rho,\\xi) \\in \\mathbb{R}^p \\times \\mathbb{R} \\times \\mathbb{R}^n} & \\quad f(w, \\rho, \\xi) \\\\\n",
    "\\text{s.t.} & \\quad g(x) \\preceq 0\n",
    "\\end{aligned}\n",
    "\\right.\n",
    "$$\n",
    "avec \n",
    "$$\n",
    "\\begin{aligned}\n",
    "& f : (w,\\rho,\\xi) \\mapsto \\frac{1}{2}\\Vert w \\Vert^2 - \\rho + \\frac{1}{\\nu n} 1_n^\\top \\xi \\\\\n",
    "& g : (w,\\rho,\\xi) \\mapsto \\begin{bmatrix} \n",
    "\\rho - \\xi_1 - \\langle w, x_1 \\rangle \\\\\n",
    "\\vdots \\\\\n",
    "\\rho - \\xi_n - \\langle w, x_n \\rangle \\\\\n",
    "-\\xi_1 \\\\\n",
    "\\vdots \\\\\n",
    "-\\xi_n \n",
    "\\end{bmatrix} \\\\\n",
    "\\end{aligned}\n",
    "$$\n",
    "De plus  \n",
    "- $\\forall (w,\\rho,\\xi) \\in \\mathbb{R}^d \\times \\mathbb{R} \\times \\mathbb{R}^n$,\n",
    "$$\n",
    "\\nabla f(w, \\rho, \\xi) = \n",
    "\\begin{bmatrix}\n",
    "w \\\\ -1 \\\\ \\frac{1}{\\nu n} 1_n\n",
    "\\end{bmatrix}\n",
    "$$\n",
    "et \n",
    "$$\n",
    "\\nabla^2 f(w, \\rho, \\xi) = \n",
    "\\begin{bmatrix}\n",
    "I_p & 0_{p, 1} & 0_{p,n} \\\\\n",
    "0_{1,p}  & 0 & 0_{1,n} \\\\\n",
    "0_{n,p} & 0_{n,1} & 0_n \n",
    "\\end{bmatrix}\n",
    "\\succeq 0\n",
    "$$\n",
    "Donc $f$ est convexe\n",
    "- $g = [g_1, \\cdots, g_{2n}]^\\top$ avec $\\forall (w,\\rho,\\xi) \\in \\mathbb{R}^d \\times \\mathbb{R} \\times \\mathbb{R}^n$,\n",
    "\\begin{eqnarray*}\n",
    "\\forall 1 \\leq i \\leq n, & \\quad g_i : (w,\\rho, \\xi) &\\mapsto \\rho - \\xi_i - \\langle w, x_i \\rangle & \\text{ est linéaire donc convexe} \\\\\n",
    "\\forall n+1 \\leq i \\leq 2n, & \\quad g_i : (w,\\rho, \\xi) &\\mapsto - \\xi_i & \\text{ est linéaire donc convexe}\n",
    "\\end{eqnarray*}\n",
    "\n",
    "Donc $(\\mathcal{P})$ est un problème d'optimisation convexe."
   ]
  },
  {
   "cell_type": "markdown",
   "metadata": {},
   "source": [
    "<div class=\"alert alert-success\">\n",
    "    <b>QUESTION 2:</b>\n",
    "     <ul>\n",
    "      <li>\n",
    "      By looking at the saddle points of the Lagrangian $\\mathcal{L}(w, \\rho, \\mu)$ of $\\mathcal{P}$, $\\mu \\in \\mathbb{R}_+^n$, show that the dual problem $(\\mathcal{D})$ can be written as:\n",
    "$$\n",
    "(\\mathcal{D}): \n",
    " \\left\\{\n",
    " \\begin{array}{lll}\n",
    " \\min_{\\mu} &\\frac{1}{2}\\mu^{\\top}GG^{t}\\mu\n",
    " \\\\\n",
    " \\mathrm{s.t.}& \\mu^{\\top}1_n = 1\n",
    " \\\\\n",
    " \\mathrm{and}& 0 \\leq \\mu \\leq \\frac{1}{\\nu n}\n",
    " \\end{array}\n",
    " \\right .\n",
    "$$\n",
    "\n",
    "with\n",
    "\n",
    "$$\n",
    " G = \\begin{bmatrix}x_{1}^{\\top} \\\\ \\vdots \\\\ x_{n}^{\\top}\\end{bmatrix}\n",
    "$$\n",
    "\n",
    "and $1_n = (1, \\dots, 1) \\in \\mathbb{R}^n$.\n",
    "    </li>\n",
    "    </ul>\n",
    "</div>\n",
    "\n",
    "We will **assume here qualification of the contraints** and that **strong duality holds**.\n",
    "\n",
    "**Remark:** The problem $(\\mathcal{D})$ is a *quadratic program* (QP) for which their exist off-the-shelf techniques. See below."
   ]
  },
  {
   "cell_type": "markdown",
   "metadata": {},
   "source": [
    "#### Lagrangien \n",
    "$\\forall (w, \\rho, \\xi, \\mu, \\phi) \\in \\mathbb{R}^p \\times \\mathbb{R} \\times \\mathbb{R}^n \\times \\mathbb{R}_+^n \\times \\mathbb{R}_+^n$,\n",
    "\\begin{eqnarray*}\n",
    "\\mathcal{L}(w, \\rho, \\xi, \\phi, \\mu) \n",
    "&=&  \\frac{1}{2}\\Vert w \\Vert^2 - \\rho + \\frac{1}{\\nu n} \\sum_{i=1}^n \\xi_i + \\sum_{i=1}^{n} \\mu_i (\\rho - \\xi_i - \\langle w, x_i \\rangle) - \\sum_{i=1}^n \\phi_i \\xi_i \\\\\n",
    "&=& \\frac{1}{2}\\Vert w \\Vert^2 + \\left (\\sum_{i=1}^n \\mu_i - 1 \\right) \\rho + \\sum_{i=1}^n \\left( \\frac{1}{\\nu n} - \\mu_i - \\phi_i \\right) \\xi_i  - \\left\\langle w, \\sum_{i=1}^{n} \\mu_i x_i \\right\\rangle \\\\\n",
    "&=& \\frac{1}{2}\\Vert w \\Vert^2 + \\left (\\mu^\\top 1_n  - 1 \\right) \\rho + \\left\\langle \\frac{1}{\\nu n} 1_n - \\mu - \\phi , \\xi \\right\\rangle  - \\left\\langle w, \\sum_{i=1}^{n} \\mu_i x_i \\right\\rangle\n",
    "\\end{eqnarray*}\n",
    "\n",
    "#### Fonction duale\n",
    "La fonction duale associée à $(\\mathcal{P})$ est $\\delta : (\\phi, \\mu) \\in \\mathbb{R}_+^n \\times \\mathbb{R}_+^n \\mapsto \\inf_{w, \\rho, \\xi} \\mathcal{L}(w, \\rho, \\xi, \\phi, \\mu)$. Or\n",
    "$$\n",
    "\\nabla_{(w,\\rho,\\xi)} \\mathcal{L}(w,\\rho,\\xi,\\mu,\\phi) =\n",
    "\\begin{bmatrix}\n",
    "w - \\sum_{i=1}^n \\mu_i x_i \\\\ \\mu^\\top 1_n - 1 \\\\ \\frac{1}{\\nu n} 1_n - \\mu - \\phi \n",
    "\\end{bmatrix} \n",
    "$$\n",
    "et \n",
    "$$\n",
    "\\nabla_{(w,\\rho,\\xi)}^2 \\mathcal{L}(w,\\rho,\\xi,\\mu,\\phi) =\n",
    "\\begin{bmatrix}\n",
    "I_p & 0_{p, 1} & 0_{p,n} \\\\\n",
    "0_{1,p}  & 0 & 0_{1,n} \\\\\n",
    "0_{n,p} & 0_{n,1} & 0_n \n",
    "\\end{bmatrix}\n",
    "\\succeq 0\n",
    "$$\n",
    "Donc pour tout $(\\mu, \\phi) \\in \\mathbb{R}_+^n \\times \\mathbb{R}_+^n, (w,\\rho,\\xi) \\mapsto \\mathcal{L}(w,\\rho,\\xi,\\mu,\\phi)$ est convexe donc $\\delta(\\mu, \\phi) = \\mathcal{L}(w^*,\\rho^*,\\xi^*,\\mu,\\phi)$ avec \n",
    "$$\n",
    "\\nabla_{(w,\\rho,\\xi)} \\mathcal{L}(w^*,\\rho^*,\\xi^*,\\mu,\\phi) = 0 \n",
    "\\iff\n",
    "\\left\\lbrace \n",
    "\\begin{array}{l}\n",
    "w = \\sum_{i=1}^n \\mu_i x_i \\\\\n",
    "\\mu^\\top 1_n = 1 \\\\\n",
    "\\phi = \\frac{1}{\\nu n} 1_n - \\mu\n",
    "\\end{array}\n",
    "\\right.\n",
    "$$\n",
    "On remarque notamment que pour que le lagrangien ait un minimum, il faut que $\\phi = \\frac{1}{\\nu n} 1_n - \\mu$ et $\\mu^\\top 1_n = 1$, dans le cas contraire $\\delta(\\phi, \\mu) = -\\infty$ car le lagrangien n'est pas minoré. Donc finalement $\\forall (\\mu, \\phi) \\in \\mathbb{R}_+^n \\times \\mathbb{R}_+^n$,\n",
    "\n",
    "$$\n",
    "\\delta(\\phi, \\mu) = \n",
    "\\left\\lbrace \n",
    "\\begin{array}{ll}\n",
    "- \\frac{1}{2} \\Vert \\sum_{i=1}^n \\mu_i x_i \\Vert^2 \n",
    "& \\text{si }  \\phi = \\frac{1}{\\nu n} 1_n - \\mu \\text{ et } \\mu^\\top 1_n = 1 \\\\\n",
    "- \\infty  & \\text{sinon}\n",
    "\\end{array}\n",
    "\\right.\n",
    "=\n",
    "\\left\\lbrace \n",
    "\\begin{array}{ll}\n",
    "- \\frac{1}{2} \\mu^\\top G G^\\top \\mu\n",
    "& \\text{si }  \\phi = \\frac{1}{\\nu n} 1_n - \\mu \\text{ et } \\mu^\\top 1_n = 1 \\\\\n",
    "- \\infty  & \\text{sinon}\n",
    "\\end{array}\n",
    "\\right.\n",
    "$$\n",
    "car $\\Vert \\sum_{i=1}^n \\mu_i x_i \\Vert^2 = \\sum_{i=1}^n \\sum_{j=1}^n \\mu_i \\mu_j x_i^\\top x_j = \\mu^\\top G G^\\top \\mu$\n",
    "\n",
    "#### Problème dual\n",
    "Le problème dual est donc \n",
    "\\begin{eqnarray*}\n",
    "(\\mathcal{D}) : \\max_{\\phi,\\mu \\in \\mathbb{R}_+^n} \\delta(\\phi,\\mu)\n",
    "& \\iff & \n",
    " \\left\\{\n",
    " \\begin{array}{lll}\n",
    " \\min_{\\mu \\in \\mathbb{R}_+^n} &\\frac{1}{2}\\mu^{\\top}GG^\\top \\mu\n",
    " \\\\\n",
    " \\mathrm{s.t.} & \\mu^{\\top}1_n = 1\n",
    " \\\\\n",
    " &\\frac{1}{\\nu n} 1_n - \\mu \\in \\mathbb{R}_+^n\n",
    " \\end{array}\n",
    " \\right. \\\\\n",
    " & \\iff & \n",
    " \\left\\{\n",
    " \\begin{array}{lll}\n",
    " \\min_{\\mu \\in \\mathbb{R}^n} &\\frac{1}{2}\\mu^{\\top}GG^\\top \\mu\n",
    " \\\\\n",
    " \\mathrm{s.t.} & \\mu^{\\top}1_n = 1\n",
    " \\\\\n",
    " & 0 \\leq \\mu \\leq \\frac{1}{\\nu n}\n",
    " \\end{array}\n",
    " \\right.\n",
    "\\end{eqnarray*}\n",
    "\n",
    "#### Points selles du lagrangien\n",
    "Les points selles du lagrangien $(w,\\rho,\\xi,\\phi,\\mu)$ sont tels que $(w,\\rho,\\xi)$ est solution de $(\\mathcal{P})$ et $(\\phi,\\mu)$ est solution de $(\\mathcal{D})$. Ils vérifient les conditions KKT : \n",
    "-  contraintes primales : $\\forall 1 \\leq i \\leq n$,\n",
    "\\begin{align*}\n",
    "\\rho - \\xi_i - \\langle w, x_i \\rangle & \\leq 0 \\\\\n",
    "\\xi_i & \\geq 0\n",
    "\\end{align*}\n",
    "- complémentarité : $\\forall 1 \\leq i \\leq n$,\n",
    "\\begin{align*}\n",
    "\\mu_i(\\rho - \\xi_i - \\langle w, x_i \\rangle) & = 0 \\\\\n",
    "\\phi_i \\xi_i & = 0\n",
    "\\end{align*}\n",
    "- stationnarité : \n",
    "\\begin{align*}\n",
    "& w = \\sum_{i=1}^n \\mu_i x_i \\\\\n",
    "& \\mu^\\top 1_n = 1 \\\\\n",
    "& \\phi = \\frac{1}{\\nu n} 1_n - \\mu\n",
    "\\end{align*}"
   ]
  },
  {
   "cell_type": "markdown",
   "metadata": {},
   "source": [
    "<div class=\"alert alert-success\">\n",
    "    <b>QUESTION 3:</b>\n",
    "     <ul>\n",
    "     <li>Justify that given the estimated $\\mu$, the prediction function for a new sample $x$ (-1 if anomaly else 1) is given by:\n",
    "        $$\n",
    "        y = \\mathrm{sign}(\\sum_{i=1}^{n} \\mu_i x_i^\\top x - \\rho) \\enspace .\n",
    "        $$\n",
    "        The vector $w$ is therefore equal to $\\sum_{i=1}^{n} \\mu_i x_i$\n",
    "    </li>\n",
    "    </ul>\n",
    "</div>"
   ]
  },
  {
   "cell_type": "markdown",
   "metadata": {},
   "source": [
    "Si $\\mu$ est solution du dual alors $(w,\\rho, \\xi, \\mu)$ est un point selle du lagrangian et donc notamment $w = w^*, \\rho = \\rho^*$ et $\\xi = \\xi^*$. Alors la fonction de prédiction définit $y = {\\rm sign}(\\langle w^*, x \\rangle - \\rho^*) = \\mathrm{sign}(\\sum_{i=1}^{n} \\mu_i x_i^\\top x - \\rho)$"
   ]
  },
  {
   "cell_type": "markdown",
   "metadata": {},
   "source": [
    "## Part 1: Implementation of solver using cvxopt"
   ]
  },
  {
   "cell_type": "markdown",
   "metadata": {},
   "source": [
    "Let's make a toy dataset in dimension 2. When using a linear kernel we need all samples to have positive values and the outliers to be close to the origin."
   ]
  },
  {
   "cell_type": "code",
   "execution_count": 3,
   "metadata": {
    "collapsed": false
   },
   "outputs": [
    {
     "data": {
      "image/png": "[encoded data removed]",
      "text/plain": [
       "<matplotlib.figure.Figure at 0x7f66b6f79f98>"
      ]
     },
     "metadata": {},
     "output_type": "display_data"
    }
   ],
   "source": [
    "def make_dataset(n_samples, contamination=0.05, random_state=42):\n",
    "    rng = np.random.RandomState(random_state)\n",
    "    X_inliers = rng.uniform(low=2, high=5, size=(int(n_samples * (1 - contamination)), 2))\n",
    "    X_outliers = rng.uniform(low=0, high=1, size=(int(n_samples * contamination), 2))\n",
    "    X = np.concatenate((X_inliers, X_outliers), axis=0)\n",
    "    rng.shuffle(X)\n",
    "    return X\n",
    "\n",
    "X = make_dataset(500)\n",
    "plt.scatter(X[:, 0], X[:, 1], color='b');"
   ]
  },
  {
   "cell_type": "markdown",
   "metadata": {},
   "source": [
    "- The following function qp allows to solve a quadratic problem of the form:\n",
    "\n",
    "$$\n",
    "\\left\\{\n",
    "  \\begin{array}{cll}\n",
    "  &\\min_{(x)} \\frac{1}{2}x^{\\top} P x + q^\\top x\n",
    "  \\\\\n",
    "   & \\textrm{s.t.}\\; A x = b, 0 \\leq x \\leq C.\n",
    "  \\end{array}\n",
    "  \\right.\n",
    "$$\n",
    "\n",
    "See documentation: http://cvxopt.org/userguide/coneprog.html#quadratic-programming"
   ]
  },
  {
   "cell_type": "code",
   "execution_count": 4,
   "metadata": {
    "collapsed": false
   },
   "outputs": [],
   "source": [
    "import cvxopt\n",
    "\n",
    "\n",
    "def qp(P, q, A, b, C, verbose=True):\n",
    "    # Gram matrix\n",
    "    n = P.shape[0]\n",
    "    P = cvxopt.matrix(P)\n",
    "    q = cvxopt.matrix(q)\n",
    "    A = cvxopt.matrix(A)\n",
    "    b = cvxopt.matrix(b)\n",
    "    G = cvxopt.matrix(np.concatenate([np.diag(np.ones(n) * -1),\n",
    "                                     np.diag(np.ones(n))], axis=0))\n",
    "    h = cvxopt.matrix(np.concatenate([np.zeros(n), C * np.ones(n)]))\n",
    "\n",
    "    # Solve QP problem\n",
    "    cvxopt.solvers.options['show_progress'] = verbose\n",
    "    solution = cvxopt.solvers.qp(P, q, G, h, A, b, solver='mosec')\n",
    " \n",
    "    return np.ravel(solution['x'])"
   ]
  },
  {
   "cell_type": "markdown",
   "metadata": {},
   "source": [
    "Definition of the linear kernel:"
   ]
  },
  {
   "cell_type": "code",
   "execution_count": 5,
   "metadata": {
    "collapsed": true
   },
   "outputs": [],
   "source": [
    "def kernel(X1, X2):\n",
    "    n1 = X1.shape[0]\n",
    "    n2 = X2.shape[0]\n",
    "    K = np.empty((n1, n2))\n",
    "    for i in range(n1):\n",
    "        for j in range(n2):\n",
    "            K[i, j] = np.dot(X1[i], X2[j])\n",
    "    return K"
   ]
  },
  {
   "cell_type": "markdown",
   "metadata": {},
   "source": [
    "**Remark:** You can use `sklearn.metrics.pairwise_distances` to avoid the for loops and make it faster."
   ]
  },
  {
   "cell_type": "markdown",
   "metadata": {},
   "source": [
    "<div class=\"alert alert-success\">\n",
    "    <b>QUESTION 4:</b>\n",
    "     <ul>\n",
    "      <li>Modify the following cell to solve the One-Class SVM dual problem.</li>\n",
    "    </ul>\n",
    "</div>"
   ]
  },
  {
   "cell_type": "code",
   "execution_count": 6,
   "metadata": {
    "collapsed": false
   },
   "outputs": [
    {
     "name": "stdout",
     "output_type": "stream",
     "text": [
      "Number of support vectors: 50\n"
     ]
    }
   ],
   "source": [
    "# TODO\n",
    "def ocsvm_solver(K, nu=0.1):\n",
    "    n = len(K)\n",
    "    P = K\n",
    "    q = np.zeros((n, 1))\n",
    "    A = np.ones((1, n))\n",
    "    b = np.array([1.])\n",
    "    C = 1. / (nu * n)\n",
    "    mu = qp(P, q, A, b, C, verbose=False)\n",
    "    idx_support = np.where(np.abs(mu) > 1e-5)[0]\n",
    "    mu_support = mu[idx_support]\n",
    "    return mu_support, idx_support\n",
    "\n",
    "\n",
    "K = kernel(X, X)\n",
    "\n",
    "# Uncomment the following lines when your ocsvm_solver is completed:\n",
    "mu_support, idx_support = ocsvm_solver(K)\n",
    "print(\"Number of support vectors: %s\" % idx_support.size)"
   ]
  },
  {
   "cell_type": "markdown",
   "metadata": {},
   "source": [
    "<div class=\"alert alert-success\">\n",
    "    <b>QUESTION 5:</b>\n",
    "     <ul>\n",
    "      <li>Compute w using mu.</li>\n",
    "    </ul>\n",
    "</div>"
   ]
  },
  {
   "cell_type": "code",
   "execution_count": 7,
   "metadata": {
    "collapsed": false
   },
   "outputs": [
    {
     "name": "stdout",
     "output_type": "stream",
     "text": [
      "[ 1.37631398  1.37252753]\n"
     ]
    }
   ],
   "source": [
    "# TODO\n",
    "w = np.dot(X[idx_support, :].T, mu_support)\n",
    "print(w)"
   ]
  },
  {
   "cell_type": "markdown",
   "metadata": {},
   "source": [
    "<div class=\"alert alert-success\">\n",
    "    <b>QUESTION 6:</b>\n",
    "     <ul>\n",
    "      <li>Using complementary slackness, explain how to obtain $\\rho$ from $\\mu$.</li>\n",
    "    </ul>\n",
    "</div>\n",
    "\n",
    "**HINT:** Use the fact that for all support vectors for which $0 < \\mu_i < \\frac{1}{\\nu n}$ one has $w^{t}x_{i} = \\rho$."
   ]
  },
  {
   "cell_type": "markdown",
   "metadata": {},
   "source": [
    "Les conditions KKT donnent\n",
    "- Si $\\rho - \\xi_i - \\langle w, x_i \\rangle < 0$ alors on a forcément $\\mu_i = 0$ \n",
    "- Si $0 < \\mu_i < \\frac{1}{\\nu n}$ alors $\\phi_i > 0$ et donc $\\xi_i = 0$ et $\\rho = \\langle w, x_i \\rangle $\n",
    "- Si $\\xi_i > 0$ alors on a forcément $\\mu_i = \\frac{1}{\\nu n}$\n",
    "\n",
    "Les vecteurs de support correspondent aux deux derniers points où $\\mu_i > 0$. On peut alors calculer $\\rho$ par $\\rho = \\langle w, x_j \\rangle$ où $j$ est tel que $\\mu_j = \\min \\{ \\mu_i > 0 \\}$. Remarquons cependant qu'il se peut que $\\forall i, \\mu_i \\approx \\frac{1}{\\nu n}$ et alors en théorie il est alors impossible de calculer $\\rho$ car on n'est jamais dans le deuxième cas ci-dessus. Le calcul de $\\rho$ proposé donnera tout de même une valeur mais celle-ci peut être fausse.\n"
   ]
  },
  {
   "cell_type": "code",
   "execution_count": 31,
   "metadata": {
    "collapsed": false
   },
   "outputs": [],
   "source": [
    "# TODO\n",
    "\n",
    "\n",
    "def compute_rho(K, mu_support, idx_support):\n",
    "    # TODO\n",
    "    K_support = K[idx_support][:, idx_support]\n",
    "    idx = np.argmin(mu_support)\n",
    "    rho = np.mean(np.dot(mu_support, K_support[:, idx]))\n",
    "    return rho\n",
    "\n",
    "\n",
    "rho = compute_rho(K, mu_support, idx_support)"
   ]
  },
  {
   "cell_type": "markdown",
   "metadata": {},
   "source": [
    "<div class=\"alert alert-success\">\n",
    "    <b>QUESTION 7:</b>\n",
    "     <ul>\n",
    "      <li>Verify that you find the same values as what scikit-learn gives. You should have the same support vectors and:\n",
    "\n",
    "\n",
    "`rho = -ocsvm.intercept_[0] / (ocsvm.nu * len(K))`\n",
    "\n",
    "and `mu_support = ocsvm.dual_coef_.ravel() / (ocsvm.nu * len(K))`</li>\n",
    "    </ul>\n",
    "</div>"
   ]
  },
  {
   "cell_type": "code",
   "execution_count": 35,
   "metadata": {
    "collapsed": false
   },
   "outputs": [
    {
     "name": "stdout",
     "output_type": "stream",
     "text": [
      "[  4  23  66  72  90  92 109 113]\n",
      "[  4  23  66  72  90  92 109 113]\n",
      "2.16400352023\n",
      "2.16400355501\n",
      "[ 0.13422819  0.13422819  0.06040268  0.13422819  0.13422819  0.13422819\n",
      "  0.13422819  0.13422819]\n",
      "[ 0.13422819  0.13422819  0.06040268  0.13422819  0.13422819  0.13422819\n",
      "  0.13422819  0.13422819]\n"
     ]
    }
   ],
   "source": [
    "from sklearn.utils.testing import assert_array_almost_equal\n",
    "from sklearn.utils.testing import assert_almost_equal\n",
    "from sklearn.svm import OneClassSVM\n",
    "\n",
    "X = make_dataset(150)\n",
    "\n",
    "ocsvm = OneClassSVM(kernel='linear', nu=0.05)\n",
    "ocsvm.fit(X)\n",
    "\n",
    "K = kernel(X, X)\n",
    "mu_support, idx_support = ocsvm_solver(K, nu=ocsvm.nu)\n",
    "rho = compute_rho(K, mu_support, idx_support)\n",
    "\n",
    "# Check indices of support vectors\n",
    "print(ocsvm.support_)\n",
    "print(idx_support)\n",
    "\n",
    "# Check rho\n",
    "print(rho)\n",
    "print(-ocsvm.intercept_[0] / (ocsvm.nu * len(K)))\n",
    "\n",
    "# Check dual variables\n",
    "print(mu_support)\n",
    "print(ocsvm.dual_coef_.ravel() / (ocsvm.nu * len(K)))\n",
    "\n",
    "# Run formal tests:\n",
    "assert_array_almost_equal(ocsvm.support_, idx_support)\n",
    "assert_almost_equal(rho, -ocsvm.intercept_[0] / (ocsvm.nu * len(K)))\n",
    "assert_array_almost_equal(mu_support, ocsvm.dual_coef_.ravel() / (ocsvm.nu * len(K)))"
   ]
  },
  {
   "cell_type": "markdown",
   "metadata": {},
   "source": [
    "En changeant X = make_dataset(150) par X = make_dataset(100), on observe que toutes les valeurs de $\\mu_i$ sont les même (elles sont égales à $\\frac{1}{\\nu n}$ du moins pour la précision de l'ordinateur) ainsi on ne peut pas calculer $\\rho$ par la formule donnée. Dans ce cas, le résultat donné par ocsvm n'est pas le même que celui donné par notre calcul. ocsvm a donc sûrement un méthode pour gérer le cas où tous les $\\mu_i$ atteignent la borne maximale.  \n",
    "\n",
    "En changeant X = make_dataset(150) par X = make_dataset(300), on observe un autre problème : un vecteur de support est gardé par ocsvm mais pas par notre algorithme ce qui donne ici aussi des résultats différents. ocsvm semble donc mieux optimisé pour résoudre le problème.\n"
   ]
  },
  {
   "cell_type": "markdown",
   "metadata": {},
   "source": [
    "Check your code by running the following cell:"
   ]
  },
  {
   "cell_type": "code",
   "execution_count": 36,
   "metadata": {
    "collapsed": false
   },
   "outputs": [
    {
     "data": {
      "image/png": "[encoded data removed]",
      "text/plain": [
       "<matplotlib.figure.Figure at 0x7f66a9e81ac8>"
      ]
     },
     "metadata": {},
     "output_type": "display_data"
    }
   ],
   "source": [
    "X = make_dataset(300)\n",
    "\n",
    "K = kernel(X, X)\n",
    "mu_support, idx_support = ocsvm_solver(K, nu=0.05)\n",
    "rho = compute_rho(K, mu_support, idx_support)\n",
    "\n",
    "def plot_ocsvm(X, mu_support, idx_support, rho, kernel=kernel):\n",
    "    # Compute decision function on a grid\n",
    "    X1, X2 = np.mgrid[-1:5.1:0.2, -1:5.1:0.2]\n",
    "    na, nb = X1.shape\n",
    "    X_test = np.c_[np.reshape(X1, (na * nb, 1)),\n",
    "                   np.reshape(X2, (na * nb, 1))]\n",
    "\n",
    "    # Compute dot products\n",
    "    X_support = X[idx_support]\n",
    "    G = kernel(X_test, X_support)\n",
    "    # Compute decision function\n",
    "    decision = G.dot(mu_support) - rho\n",
    "\n",
    "    # Compute predict label\n",
    "    y_pred = np.sign(decision)\n",
    "\n",
    "    # Plot decision boundary\n",
    "    plt.plot(X[:,0], X[:, 1], 'or', linewidth=2)\n",
    "    Z = np.reshape(decision, (na, nb))\n",
    "    plt.contourf(X1, X2, Z, 20, cmap=plt.cm.gray)\n",
    "    cs = plt.contour(X1, X2, Z, [0], colors='y', linewidths=2, zorder=10)\n",
    "    plt.xlabel('x1')\n",
    "    plt.ylabel('x2')\n",
    "    plt.xlim([-1, 5])\n",
    "    plt.ylim([-1, 5])\n",
    "\n",
    "plot_ocsvm(X, mu_support, idx_support, rho)"
   ]
  },
  {
   "cell_type": "code",
   "execution_count": 37,
   "metadata": {
    "collapsed": false
   },
   "outputs": [
    {
     "data": {
      "image/png": "[encoded data removed]",
      "text/plain": [
       "<matplotlib.figure.Figure at 0x7f66a9d56828>"
      ]
     },
     "metadata": {},
     "output_type": "display_data"
    }
   ],
   "source": [
    "# Test avec ocsvm\n",
    "ocsvm = OneClassSVM(kernel='linear', nu=0.05)\n",
    "ocsvm.fit(X)\n",
    "K = kernel(X, X)\n",
    "\n",
    "plot_ocsvm(X, ocsvm.dual_coef_.ravel() / (ocsvm.nu * len(K)), \n",
    "           ocsvm.support_,\n",
    "           -ocsvm.intercept_[0] / (ocsvm.nu * len(K)))"
   ]
  },
  {
   "cell_type": "code",
   "execution_count": 39,
   "metadata": {
    "collapsed": false
   },
   "outputs": [
    {
     "name": "stdout",
     "output_type": "stream",
     "text": [
      "support ocsvm : [  2  27  46 109 124 132 141 154 160 164 165 218 222 234 254 264]\n",
      "support ocsvm_solver : [  2  27  46 109 124 132 141 154 160 164 165 218 234 254 264]\n",
      "rho ocsvm : 0.806819272281\n",
      "rho ocsvm_solver : 1.86717663606\n",
      "mu_support ocsvm : [ 0.06666667  0.06666667  0.06666667  0.06666667  0.06666667  0.06666667\n",
      "  0.06666667  0.06666667  0.06666667  0.06666667  0.06666667  0.06666667\n",
      "  0.06666667  0.06666667  0.06666667]\n",
      "mu_support ocsvm : [  6.66666667e-02   6.66666667e-02   6.66666667e-02   6.66666667e-02\n",
      "   6.66666667e-02   6.66666667e-02   6.66666667e-02   6.66666667e-02\n",
      "   6.66666667e-02   6.66666667e-02   6.66666667e-02   6.66666667e-02\n",
      "   5.21064673e-15   6.66666667e-02   6.66666667e-02   6.66666667e-02]\n"
     ]
    }
   ],
   "source": [
    "# Check indices of support vectors\n",
    "print(\"support ocsvm : %s\"%ocsvm.support_)\n",
    "print(\"support ocsvm_solver : %s\"%idx_support)\n",
    "\n",
    "# Check rho\n",
    "print(\"rho ocsvm : %s\"%rho)\n",
    "print(\"rho ocsvm_solver : %s\"%(-ocsvm.intercept_[0] / (ocsvm.nu * len(K))))\n",
    "\n",
    "# Check dual variables\n",
    "print(\"mu_support ocsvm : %s\"%mu_support)\n",
    "print(\"mu_support ocsvm : %s\"%(ocsvm.dual_coef_.ravel() / (ocsvm.nu * len(K))))"
   ]
  },
  {
   "cell_type": "markdown",
   "metadata": {},
   "source": [
    "Comme souligné précédemment, dans le cas du dataset 300, ocsvm et ocsvm_solver ne donnent pas les même vecteurs de support. On observe que cela donne deux résultats différents. Cependant aucun des deux résultats ne semble clairement meilleur que l'autre, on aimerait avoir une droite au milieu des deux clusters. Cela peut être dû au fait que les vecteurs de support sont soit tels que $\\mu_i \\approx \\frac{1}{\\nu n}$ soit $\\mu_i \\approx 10^{-15}$ (très faible). Il se peut alors qu'on n'ait pas réellement $\\xi_i \\approx 0$"
   ]
  },
  {
   "cell_type": "markdown",
   "metadata": {},
   "source": [
    "<div class=\"alert alert-success\">\n",
    "    <b>QUESTION 8:</b>\n",
    "     <ul>\n",
    "      <li>Without any implementation, can you justify if you can apply any of the algorithm, among proximal gradient, coordinate descent, stochastic gradient descent and L-BFGS to the dual problem?\n",
    "      </li>\n",
    "    </ul>\n",
    "</div>"
   ]
  },
  {
   "cell_type": "markdown",
   "metadata": {},
   "source": [
    "ANSWER HERE"
   ]
  },
  {
   "cell_type": "markdown",
   "metadata": {},
   "source": [
    "## Part 1: non-linear case with kernels"
   ]
  },
  {
   "cell_type": "markdown",
   "metadata": {},
   "source": [
    "Another scenario is when the boundary between normal samples and outliers is not linear.\n",
    "\n",
    "To cope with this the idea is to use kernels.\n",
    "\n",
    "<div class=\"alert alert-success\">\n",
    "    <b>QUESTION 9:</b>\n",
    "     <ul>\n",
    "      <li>Denoting by $K(x_i, x_j)$ the dot product between samples show that dual problem and the decision function f(x) can be reformulated just using calls to $K$\n",
    "      </li>\n",
    "    </ul>\n",
    "</div>"
   ]
  },
  {
   "cell_type": "markdown",
   "metadata": {},
   "source": [
    "ANSWER HERE"
   ]
  },
  {
   "cell_type": "markdown",
   "metadata": {},
   "source": [
    "We will use another dataset to evaluate this:"
   ]
  },
  {
   "cell_type": "code",
   "execution_count": 14,
   "metadata": {
    "collapsed": false
   },
   "outputs": [
    {
     "data": {
      "image/png": "[encoded data removed]",
      "text/plain": [
       "<matplotlib.figure.Figure at 0x10f0ae9e8>"
      ]
     },
     "metadata": {},
     "output_type": "display_data"
    }
   ],
   "source": [
    "def make_blob_dataset(n_samples, contamination=0.05, random_state=42):\n",
    "    rng = np.random.RandomState(random_state)\n",
    "    X_inliers = 0.3 * rng.normal(size=(int(n_samples * (1. - contamination)), 2)) + 2\n",
    "    X_outliers = rng.uniform(low=-1, high=5, size=(int(n_samples * contamination), 2))\n",
    "    X = np.concatenate((X_inliers, X_outliers), axis=0)\n",
    "    rng.shuffle(X)\n",
    "    return X\n",
    "\n",
    "X = make_blob_dataset(300)\n",
    "plt.scatter(X[:, 0], X[:, 1], color='b');"
   ]
  },
  {
   "cell_type": "markdown",
   "metadata": {},
   "source": [
    "<div class=\"alert alert-success\">\n",
    "    <b>QUESTION 10:</b>\n",
    "     <ul>\n",
    "      <li>Update your kernel function so it computes the Gaussian kernel:\n",
    "      \n",
    "        $$\n",
    "            K(x_i, x_j) = \\exp(-\\gamma \\| x_i - x_j \\|^2)\n",
    "        $$\n",
    "\n",
    "        where $\\gamma > 0$ is the kernel bandwidth.\n",
    "      </li>\n",
    "    </ul>\n",
    "</div>"
   ]
  },
  {
   "cell_type": "code",
   "execution_count": 15,
   "metadata": {
    "collapsed": true
   },
   "outputs": [],
   "source": [
    "# TODO\n",
    "\n",
    "from scipy import linalg\n",
    "\n",
    "def rbf_kernel(X1, X2):\n",
    "    n1 = X1.shape[0]\n",
    "    n2 = X2.shape[0]\n",
    "    K = np.empty((n1, n2))\n",
    "    gamma = .3\n",
    "    for i in range(n1):\n",
    "        for j in range(n2):\n",
    "            K[i, j] = 0  # CHANGE THIS\n",
    "    return K"
   ]
  },
  {
   "cell_type": "markdown",
   "metadata": {},
   "source": [
    "Using the change above the follwing code should allow you to nicely separate the dense region from the outliers"
   ]
  },
  {
   "cell_type": "code",
   "execution_count": 17,
   "metadata": {
    "collapsed": false
   },
   "outputs": [
    {
     "data": {
      "image/png": "[encoded data removed]",
      "text/plain": [
       "<matplotlib.figure.Figure at 0x1112279b0>"
      ]
     },
     "metadata": {},
     "output_type": "display_data"
    }
   ],
   "source": [
    "X = make_blob_dataset(150)\n",
    "\n",
    "K = rbf_kernel(X, X)\n",
    "mu_support, idx_support = ocsvm_solver(K, nu=0.1)\n",
    "rho = compute_rho(K, mu_support, idx_support)\n",
    "\n",
    "plot_ocsvm(X, mu_support, idx_support, rho, kernel=rbf_kernel)"
   ]
  },
  {
   "cell_type": "markdown",
   "metadata": {},
   "source": [
    "## Part 2: One-class SVM without $\\rho$\n",
    "\n",
    "Formulation for example used in:\n",
    "\n",
    "```\n",
    "Consistency of one-class SVM and related algorithms\n",
    "Régis Vert and Jean-philippe Vert\n",
    "NIPS 2006\n",
    "```"
   ]
  },
  {
   "cell_type": "markdown",
   "metadata": {},
   "source": [
    "The problem of the formuation of SVMs with the variable $\\rho$ is that\n",
    "it leads to an annoying constraint in the dual, namely the $\\mu^{\\top}1_n = 1$.\n",
    "\n",
    "We will now see what we can do about it.\n",
    "\n",
    "Let's consider the problem\n",
    "\n",
    "$$\n",
    "\t\\begin{aligned}\n",
    "\t\\min_{w, \\xi} & \\quad \\frac{1}{2}\\Vert w \\Vert^2 + \\frac{C}{n} \\sum_{i=1}^n \\xi_i \\\\\n",
    "\t\\text{s.t.} & \\quad \\langle w, x_i \\rangle \\geq 1 - \\xi_i \\quad 1 \\leq i \\leq n \\\\\n",
    "\t& \\quad \\xi_i \\geq 0 \\quad 1 \\leq i \\leq n\n",
    "\t\\end{aligned}\n",
    "$$"
   ]
  },
  {
   "cell_type": "markdown",
   "metadata": {},
   "source": [
    "<div class=\"alert alert-success\">\n",
    "    <b>QUESTION 10:</b>\n",
    "     <ul>\n",
    "      <li>Show that a dual problem of this problem is given by:\n",
    "      \n",
    "        $$\n",
    "        (\\mathcal{D}):\n",
    "            \\left\\{\n",
    "            \\begin{array}{lll}\n",
    "            \\min_{\\mu} &\\frac{1}{2}\\mu^{\\top}GG^{\\top}\\mu-\\mu^{\\top} 1_n\n",
    "            \\\\\n",
    "            \\mathrm{s.t.}& 0 \\leq \\mu \\leq \\frac{C}{n}\n",
    "            \\end{array}\n",
    "            \\right .\n",
    "        $$\n",
    "      </li>\n",
    "    </ul>\n",
    "</div>"
   ]
  },
  {
   "cell_type": "markdown",
   "metadata": {},
   "source": [
    "#### Lagrangien : \n",
    "$\\forall (w, \\xi, \\mu, \\phi) \\in \\mathbb{R}^p \\times \\mathbb{R}^n \\times \\mathbb{R}_+^n \\times \\mathbb{R}_+^n$,\n",
    "\\begin{eqnarray*}\n",
    "\\mathcal{L}(w, \\xi, \\phi, \\mu) \n",
    "&=&  \\frac{1}{2}\\Vert w \\Vert^2 + \\frac{C}{n} \\sum_{i=1}^n \\xi_i + \\sum_{i=1}^{n} \\mu_i (1 - \\xi_i - \\langle w, x_i \\rangle) - \\sum_{i=1}^n \\phi_i \\xi_i \\\\\n",
    "&=& \\frac{1}{2}\\Vert w \\Vert^2  + \\sum_{i=1}^n \\left( \\frac{C}{n} - \\mu_i - \\phi_i \\right) \\xi_i  - \\left\\langle w, \\sum_{i=1}^{n} \\mu_i x_i \\right\\rangle + \\sum_{i=1}^n \\mu_i \\\\\n",
    "&=& \\frac{1}{2}\\Vert w \\Vert^2 + \\left\\langle \\frac{C}{n} 1_n - \\mu - \\phi , \\xi \\right\\rangle  - \\left\\langle w, \\sum_{i=1}^{n} \\mu_i x_i \\right\\rangle + \\mu^\\top 1_n\n",
    "\\end{eqnarray*}\n",
    "\n",
    "#### Fonction duale :\n",
    "$\\delta : (\\phi, \\mu) \\in \\mathbb{R}_+^n \\times \\mathbb{R}_+^n \\mapsto \\inf_{w, \\xi} \\mathcal{L}(w, \\xi, \\phi, \\mu)$. Or\n",
    "$$\n",
    "\\nabla_{(w,\\xi)} \\mathcal{L}(w,\\xi,\\mu,\\phi) =\n",
    "\\begin{bmatrix}\n",
    "w - \\sum_{i=1}^n \\mu_i x_i \\\\ \\frac{C}{n} 1_n - \\mu - \\phi \n",
    "\\end{bmatrix} \n",
    "$$\n",
    "et \n",
    "$$\n",
    "\\nabla_{(w,\\xi)}^2 \\mathcal{L}(w,\\xi,\\mu,\\phi) =\n",
    "\\begin{bmatrix}\n",
    "I_p  & 0_{p,n} \\\\\n",
    "0_{n,p} & 0_n \n",
    "\\end{bmatrix}\n",
    "\\succeq 0\n",
    "$$\n",
    "Donc pour tout $(\\mu, \\phi) \\in \\mathbb{R}_+^n \\times \\mathbb{R}_+^n, (w,\\xi) \\mapsto \\mathcal{L}(w,\\xi,\\mu,\\phi)$ est convexe donc $\\delta(\\mu, \\phi) = \\mathcal{L}(w^*,\\xi^*,\\mu,\\phi)$ avec \n",
    "$$\n",
    "\\nabla_{(w,\\xi)} \\mathcal{L}(w^*,\\xi^*,\\mu,\\phi) = 0 \n",
    "\\iff\n",
    "\\left\\lbrace \n",
    "\\begin{array}{l}\n",
    "w = \\sum_{i=1}^n \\mu_i x_i \\\\\n",
    "\\phi = \\frac{C}{n} 1_n - \\mu\n",
    "\\end{array}\n",
    "\\right.\n",
    "$$\n",
    "Donc finalement $\\forall (\\mu, \\phi) \\in \\mathbb{R}_+^n \\times \\mathbb{R}_+^n$,\n",
    "$$\n",
    "\\delta(\\phi, \\mu) = \n",
    "\\left\\lbrace \n",
    "\\begin{array}{ll}\n",
    "- \\frac{1}{2} \\Vert \\sum_{i=1}^n \\mu_i x_i \\Vert^2  + \\mu^\\top 1_n\n",
    "& \\text{si }  \\phi = \\frac{C}{n} 1_n - \\mu\\\\\n",
    "- \\infty  & \\text{sinon}\n",
    "\\end{array}\n",
    "\\right.\n",
    "=\n",
    "\\left\\lbrace \n",
    "\\begin{array}{ll}\n",
    "- \\frac{1}{2} \\mu^\\top G G^\\top \\mu  + \\mu^\\top 1_n\n",
    "& \\text{si }  \\phi = \\frac{C}{n} 1_n - \\mu \\\\\n",
    "- \\infty  & \\text{sinon}\n",
    "\\end{array}\n",
    "\\right.\n",
    "$$\n",
    "#### Problème dual\n",
    "Le problème dual est donc \n",
    "\\begin{eqnarray*}\n",
    "(\\mathcal{D}) : \\max_{\\phi,\\mu \\in \\mathbb{R}_+^n} \\delta(\\phi,\\mu)\n",
    "& \\iff & \n",
    " \\left\\{\n",
    " \\begin{array}{lll}\n",
    " \\min_{\\mu \\in \\mathbb{R}_+^n} &\\frac{1}{2}\\mu^{\\top}GG^\\top \\mu  - \\mu^\\top 1_n\n",
    " \\\\\n",
    " \\mathrm{s.t.} & \\frac{C}{n} 1_n - \\mu \\in \\mathbb{R}_+^n\n",
    " \\end{array}\n",
    " \\right. \\\\\n",
    " & \\iff & \n",
    " \\left\\{\n",
    " \\begin{array}{lll}\n",
    " \\min_{\\mu \\in \\mathbb{R}^n} &\\frac{1}{2}\\mu^{\\top}GG^\\top \\mu  - \\mu^\\top 1_n\n",
    " \\\\\n",
    " \\mathrm{s.t.} & 0 \\leq \\mu \\leq \\frac{C}{n}\n",
    " \\end{array}\n",
    " \\right.\n",
    "\\end{eqnarray*}"
   ]
  },
  {
   "cell_type": "markdown",
   "metadata": {},
   "source": [
    "<div class=\"alert alert-success\">\n",
    "    <b>QUESTION 11:</b>\n",
    "     <ul>\n",
    "      <li> Rewrite the dual in the form:\n",
    "      \n",
    "            $$\n",
    "            (\\mathcal{D}): \\min_{\\mu} f(\\mu) + g(\\mu) .\n",
    "            $$\n",
    "\n",
    "            where $f$ is here a smooth function of $\\mu$ with L-Liptschitz gradient and $g$ is a non-smooth function that is separable, namely:\n",
    "\n",
    "            $$\n",
    "            g(\\mu) = \\sum_{i=1}^n g_i(\\mu_i)\n",
    "            $$\n",
    "      </li>\n",
    "    </ul>\n",
    "</div>\n",
    "\n"
   ]
  },
  {
   "cell_type": "markdown",
   "metadata": {},
   "source": [
    "Notons $\\mathbb{I}_{\\mathcal{A}} : x \\mapsto \\left\\lbrace \\begin{array}{ll} 0 & \\text{si } x \\in A \\\\ +\\infty & \\text{sinon} \\end{array} \\right.$ l'indicatrice convexe de l'ensemble $\\mathcal{A}$ alors \n",
    "$$\n",
    "(\\mathcal{D}) \\iff \\min_{\\mu \\in \\mathbb{R}^n} \\frac{1}{2} \\mu^\\top G G^\\top \\mu - \\mu^\\top 1_n - \\mathbb{I}_{[0, C/n]^n}(\\mu) \\iff \\min_{\\mu \\in \\mathbb{R}^n} f(\\mu) + g(\\mu)\n",
    "$$\n",
    "avec \n",
    "- $f : \\mu \\mapsto \\mu^\\top G G^\\top \\mu - 1_n^\\top \\mu$ est une fonction quadratique donc convexe avec un gradient lipschitzien\n",
    "- $g : \\mu \\mapsto \\mathbb{I}_{[0, C/n]^n}(\\mu) = \\sum_{i=1}^n \\mathbb{I}_{[0, C/n]}(\\mu_i)$ est convexe et séparable"
   ]
  },
  {
   "cell_type": "markdown",
   "metadata": {},
   "source": [
    "The dual in the later form can be readily optimized using the methods that you have been studying in this class:\n",
    "\n",
    "- Proximal gradient method with and without acceleration\n",
    "- L-BFGS-B\n",
    "- Coordinate descent"
   ]
  },
  {
   "cell_type": "markdown",
   "metadata": {},
   "source": [
    "<div class=\"alert alert-success\">\n",
    "    <b>QUESTION 12:</b>\n",
    "    Implement:\n",
    "     <ul>\n",
    "      <li> your own solver based on the QP function in cvxopt (reuse `qp` function above).</li>\n",
    "      <li> your own solver of proximal gradient with and without acceleration</li>\n",
    "      <li> your own version of coordinate descent</li>\n",
    "      <li> an L-BFGS-B solver using `scipy.optimize.fmin_l_bfgs_b`</li>\n",
    "    </ul>\n",
    "</div>"
   ]
  },
  {
   "cell_type": "markdown",
   "metadata": {},
   "source": [
    "You will test your implementations on the Gaussian blob corrupted with some uniform noise obtained with `make_blob_dataset` function.\n",
    "\n",
    "You will make sure that all solvers converge towards the same minimum !\n",
    "\n",
    "You will evaluate the performance of your implementations in terms of computation time on problems where the matrix $G G^\\top$ can fit in memory on your machine.\n",
    "\n",
    "You should reuse as much as possible the convergence evaluation code that you used during the labs.\n",
    "\n",
    "**Remark:** For the coordinate descent method there exist some smart updates provided you use a linear kernel.\n",
    "\n",
    "**BONUS (Hard):** Explain without implementing it how such smart updates could work for the coordinate descent solver.\n",
    "\n",
    "**IMPORTANT : This question 12 is the most important and will constitute half of the final grade on the project !**"
   ]
  },
  {
   "cell_type": "code",
   "execution_count": 18,
   "metadata": {
    "collapsed": true
   },
   "outputs": [],
   "source": [
    "# TODO\n",
    "\n",
    "from scipy.optimize import fmin_l_bfgs_b"
   ]
  }
 ],
 "metadata": {
  "anaconda-cloud": {},
  "kernelspec": {
   "display_name": "Python [Root]",
   "language": "python",
   "name": "Python [Root]"
  },
  "language_info": {
   "codemirror_mode": {
    "name": "ipython",
    "version": 3
   },
   "file_extension": ".py",
   "mimetype": "text/x-python",
   "name": "python",
   "nbconvert_exporter": "python",
   "pygments_lexer": "ipython3",
   "version": "3.5.1"
  }
 },
 "nbformat": 4,
 "nbformat_minor": 1
}
